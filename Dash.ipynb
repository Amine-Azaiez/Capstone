{
  "nbformat": 4,
  "nbformat_minor": 0,
  "metadata": {
    "colab": {
      "provenance": []
    },
    "kernelspec": {
      "name": "python3",
      "display_name": "Python 3"
    },
    "language_info": {
      "name": "python"
    }
  },
  "cells": [
    {
      "cell_type": "code",
      "execution_count": null,
      "metadata": {
        "id": "cLAQXxGbnoS4"
      },
      "outputs": [],
      "source": []
    },
    {
      "cell_type": "code",
      "execution_count": 1,
      "metadata": {
        "colab": {
          "base_uri": "https://localhost:8080/"
        },
        "id": "d6DyNwVDlR-o",
        "outputId": "353fc6ff-2596-4701-aae9-4cb3800ec446"
      },
      "outputs": [
        {
          "output_type": "stream",
          "name": "stdout",
          "text": [
            "Collecting jupyter-dash\n",
            "  Downloading jupyter_dash-0.4.2-py3-none-any.whl (23 kB)\n",
            "Collecting dash (from jupyter-dash)\n",
            "  Downloading dash-2.13.0-py3-none-any.whl (10.4 MB)\n",
            "\u001b[2K     \u001b[90m━━━━━━━━━━━━━━━━━━━━━━━━━━━━━━━━━━━━━━━━\u001b[0m \u001b[32m10.4/10.4 MB\u001b[0m \u001b[31m86.9 MB/s\u001b[0m eta \u001b[36m0:00:00\u001b[0m\n",
            "\u001b[?25hRequirement already satisfied: requests in /usr/local/lib/python3.10/dist-packages (from jupyter-dash) (2.31.0)\n",
            "Requirement already satisfied: flask in /usr/local/lib/python3.10/dist-packages (from jupyter-dash) (2.2.5)\n",
            "Collecting retrying (from jupyter-dash)\n",
            "  Downloading retrying-1.3.4-py3-none-any.whl (11 kB)\n",
            "Requirement already satisfied: ipython in /usr/local/lib/python3.10/dist-packages (from jupyter-dash) (7.34.0)\n",
            "Requirement already satisfied: ipykernel in /usr/local/lib/python3.10/dist-packages (from jupyter-dash) (5.5.6)\n",
            "Collecting ansi2html (from jupyter-dash)\n",
            "  Downloading ansi2html-1.8.0-py3-none-any.whl (16 kB)\n",
            "Requirement already satisfied: nest-asyncio in /usr/local/lib/python3.10/dist-packages (from jupyter-dash) (1.5.7)\n",
            "Collecting Werkzeug<2.3.0 (from dash->jupyter-dash)\n",
            "  Downloading Werkzeug-2.2.3-py3-none-any.whl (233 kB)\n",
            "\u001b[2K     \u001b[90m━━━━━━━━━━━━━━━━━━━━━━━━━━━━━━━━━━━━━━\u001b[0m \u001b[32m233.6/233.6 kB\u001b[0m \u001b[31m24.9 MB/s\u001b[0m eta \u001b[36m0:00:00\u001b[0m\n",
            "\u001b[?25hRequirement already satisfied: plotly>=5.0.0 in /usr/local/lib/python3.10/dist-packages (from dash->jupyter-dash) (5.15.0)\n",
            "Collecting dash-html-components==2.0.0 (from dash->jupyter-dash)\n",
            "  Downloading dash_html_components-2.0.0-py3-none-any.whl (4.1 kB)\n",
            "Collecting dash-core-components==2.0.0 (from dash->jupyter-dash)\n",
            "  Downloading dash_core_components-2.0.0-py3-none-any.whl (3.8 kB)\n",
            "Collecting dash-table==5.0.0 (from dash->jupyter-dash)\n",
            "  Downloading dash_table-5.0.0-py3-none-any.whl (3.9 kB)\n",
            "Requirement already satisfied: typing-extensions>=4.1.1 in /usr/local/lib/python3.10/dist-packages (from dash->jupyter-dash) (4.5.0)\n",
            "Requirement already satisfied: setuptools in /usr/local/lib/python3.10/dist-packages (from dash->jupyter-dash) (67.7.2)\n",
            "Requirement already satisfied: Jinja2>=3.0 in /usr/local/lib/python3.10/dist-packages (from flask->jupyter-dash) (3.1.2)\n",
            "Requirement already satisfied: itsdangerous>=2.0 in /usr/local/lib/python3.10/dist-packages (from flask->jupyter-dash) (2.1.2)\n",
            "Requirement already satisfied: click>=8.0 in /usr/local/lib/python3.10/dist-packages (from flask->jupyter-dash) (8.1.7)\n",
            "Requirement already satisfied: ipython-genutils in /usr/local/lib/python3.10/dist-packages (from ipykernel->jupyter-dash) (0.2.0)\n",
            "Requirement already satisfied: traitlets>=4.1.0 in /usr/local/lib/python3.10/dist-packages (from ipykernel->jupyter-dash) (5.7.1)\n",
            "Requirement already satisfied: jupyter-client in /usr/local/lib/python3.10/dist-packages (from ipykernel->jupyter-dash) (6.1.12)\n",
            "Requirement already satisfied: tornado>=4.2 in /usr/local/lib/python3.10/dist-packages (from ipykernel->jupyter-dash) (6.3.2)\n",
            "Collecting jedi>=0.16 (from ipython->jupyter-dash)\n",
            "  Downloading jedi-0.19.0-py2.py3-none-any.whl (1.6 MB)\n",
            "\u001b[2K     \u001b[90m━━━━━━━━━━━━━━━━━━━━━━━━━━━━━━━━━━━━━━━━\u001b[0m \u001b[32m1.6/1.6 MB\u001b[0m \u001b[31m85.6 MB/s\u001b[0m eta \u001b[36m0:00:00\u001b[0m\n",
            "\u001b[?25hRequirement already satisfied: decorator in /usr/local/lib/python3.10/dist-packages (from ipython->jupyter-dash) (4.4.2)\n",
            "Requirement already satisfied: pickleshare in /usr/local/lib/python3.10/dist-packages (from ipython->jupyter-dash) (0.7.5)\n",
            "Requirement already satisfied: prompt-toolkit!=3.0.0,!=3.0.1,<3.1.0,>=2.0.0 in /usr/local/lib/python3.10/dist-packages (from ipython->jupyter-dash) (3.0.39)\n",
            "Requirement already satisfied: pygments in /usr/local/lib/python3.10/dist-packages (from ipython->jupyter-dash) (2.16.1)\n",
            "Requirement already satisfied: backcall in /usr/local/lib/python3.10/dist-packages (from ipython->jupyter-dash) (0.2.0)\n",
            "Requirement already satisfied: matplotlib-inline in /usr/local/lib/python3.10/dist-packages (from ipython->jupyter-dash) (0.1.6)\n",
            "Requirement already satisfied: pexpect>4.3 in /usr/local/lib/python3.10/dist-packages (from ipython->jupyter-dash) (4.8.0)\n",
            "Requirement already satisfied: charset-normalizer<4,>=2 in /usr/local/lib/python3.10/dist-packages (from requests->jupyter-dash) (3.2.0)\n",
            "Requirement already satisfied: idna<4,>=2.5 in /usr/local/lib/python3.10/dist-packages (from requests->jupyter-dash) (3.4)\n",
            "Requirement already satisfied: urllib3<3,>=1.21.1 in /usr/local/lib/python3.10/dist-packages (from requests->jupyter-dash) (2.0.4)\n",
            "Requirement already satisfied: certifi>=2017.4.17 in /usr/local/lib/python3.10/dist-packages (from requests->jupyter-dash) (2023.7.22)\n",
            "Requirement already satisfied: six>=1.7.0 in /usr/local/lib/python3.10/dist-packages (from retrying->jupyter-dash) (1.16.0)\n",
            "Requirement already satisfied: parso<0.9.0,>=0.8.3 in /usr/local/lib/python3.10/dist-packages (from jedi>=0.16->ipython->jupyter-dash) (0.8.3)\n",
            "Requirement already satisfied: MarkupSafe>=2.0 in /usr/local/lib/python3.10/dist-packages (from Jinja2>=3.0->flask->jupyter-dash) (2.1.3)\n",
            "Requirement already satisfied: ptyprocess>=0.5 in /usr/local/lib/python3.10/dist-packages (from pexpect>4.3->ipython->jupyter-dash) (0.7.0)\n",
            "Requirement already satisfied: tenacity>=6.2.0 in /usr/local/lib/python3.10/dist-packages (from plotly>=5.0.0->dash->jupyter-dash) (8.2.3)\n",
            "Requirement already satisfied: packaging in /usr/local/lib/python3.10/dist-packages (from plotly>=5.0.0->dash->jupyter-dash) (23.1)\n",
            "Requirement already satisfied: wcwidth in /usr/local/lib/python3.10/dist-packages (from prompt-toolkit!=3.0.0,!=3.0.1,<3.1.0,>=2.0.0->ipython->jupyter-dash) (0.2.6)\n",
            "Requirement already satisfied: jupyter-core>=4.6.0 in /usr/local/lib/python3.10/dist-packages (from jupyter-client->ipykernel->jupyter-dash) (5.3.1)\n",
            "Requirement already satisfied: pyzmq>=13 in /usr/local/lib/python3.10/dist-packages (from jupyter-client->ipykernel->jupyter-dash) (23.2.1)\n",
            "Requirement already satisfied: python-dateutil>=2.1 in /usr/local/lib/python3.10/dist-packages (from jupyter-client->ipykernel->jupyter-dash) (2.8.2)\n",
            "Requirement already satisfied: platformdirs>=2.5 in /usr/local/lib/python3.10/dist-packages (from jupyter-core>=4.6.0->jupyter-client->ipykernel->jupyter-dash) (3.10.0)\n",
            "Installing collected packages: dash-table, dash-html-components, dash-core-components, Werkzeug, retrying, jedi, ansi2html, dash, jupyter-dash\n",
            "  Attempting uninstall: Werkzeug\n",
            "    Found existing installation: Werkzeug 2.3.7\n",
            "    Uninstalling Werkzeug-2.3.7:\n",
            "      Successfully uninstalled Werkzeug-2.3.7\n",
            "Successfully installed Werkzeug-2.2.3 ansi2html-1.8.0 dash-2.13.0 dash-core-components-2.0.0 dash-html-components-2.0.0 dash-table-5.0.0 jedi-0.19.0 jupyter-dash-0.4.2 retrying-1.3.4\n"
          ]
        }
      ],
      "source": [
        "!pip install jupyter-dash"
      ]
    },
    {
      "cell_type": "code",
      "source": [],
      "metadata": {
        "id": "iIXLuxcrn8bd"
      },
      "execution_count": null,
      "outputs": []
    },
    {
      "cell_type": "code",
      "source": [
        "import dash\n",
        "app = dash.Dash(__name__)\n",
        "\n"
      ],
      "metadata": {
        "id": "6U8SX86vl_9K"
      },
      "execution_count": 2,
      "outputs": []
    },
    {
      "cell_type": "code",
      "source": [
        "import requests\n",
        "\n",
        "# URL of the dataset\n",
        "url = \"https://cf-courses-data.s3.us.cloud-object-storage.appdomain.cloud/IBM-DS0321EN-SkillsNetwork/datasets/spacex_launch_dash.csv\"\n",
        "\n",
        "# Send a GET request\n",
        "response = requests.get(url)\n",
        "\n",
        "# Ensure we got a valid response\n",
        "if response.status_code == 200:\n",
        "    with open('spacex_launch_dash.csv', 'wb') as file:\n",
        "        file.write(response.content)\n",
        "    print(\"response status code :\",response.status_code )\n",
        "else:\n",
        "    print(\"Failed to fetch the dataset.\")"
      ],
      "metadata": {
        "colab": {
          "base_uri": "https://localhost:8080/"
        },
        "id": "W6Rw9vWPoE3e",
        "outputId": "764a9025-a6b5-4a4b-e2fe-079285dbc9d7"
      },
      "execution_count": 3,
      "outputs": [
        {
          "output_type": "stream",
          "name": "stdout",
          "text": [
            "response status code : 200\n"
          ]
        }
      ]
    },
    {
      "cell_type": "code",
      "source": [],
      "metadata": {
        "id": "dbrybrXToKpn"
      },
      "execution_count": null,
      "outputs": []
    },
    {
      "cell_type": "code",
      "source": [
        "# Import required libraries\n",
        "import pandas as pd\n",
        "import dash\n",
        "import dash_html_components as html\n",
        "import dash_core_components as dcc\n",
        "from dash.dependencies import Input, Output\n",
        "import plotly.express as px\n",
        "\n",
        "# Read the airline data into pandas dataframe\n",
        "spacex_df = pd.read_csv(\"spacex_launch_dash.csv\")\n",
        "max_payload = spacex_df['Payload Mass (kg)'].max()\n",
        "min_payload = spacex_df['Payload Mass (kg)'].min()\n",
        "\n",
        "options=[{\"label\": \"All\", \"value\": \"All\"}]\n",
        "options.extend([{'label': value, 'value': value} for value in spacex_df['Launch Site'].unique()])\n",
        "\n",
        "marks = {\n",
        "    1000: '1k',\n",
        "    2000: '2k',\n",
        "    3000: '3k',\n",
        "    4000: '4k',\n",
        "    5000: '5k',\n",
        "    6000: '6k',\n",
        "    7000: '7k',\n",
        "    8000: '8k',\n",
        "    9000: '9k',\n",
        "    10000: '10k'\n",
        "}\n",
        "\n",
        "\n",
        "# Create a dash application\n",
        "app = dash.Dash(__name__)\n",
        "\n",
        "# Create an app layout\n",
        "app.layout = html.Div(children=[html.H1('SpaceX Launch Records Dashboard',\n",
        "                                        style={'textAlign': 'center', 'color': '#503D36',\n",
        "                                               'font-size': 40}),\n",
        "                                # TASK 1: Add a dropdown list to enable Launch Site selection\n",
        "                                # The default select value is for ALL sites\n",
        "                                # dcc.Dropdown(id='site-dropdown',...)\n",
        "                                dcc.Dropdown(id='site-dropdown',\n",
        "                                            options=options,\n",
        "                                            value=\"All\",\n",
        "                                            placeholder=\"Select a Launch Site here\",\n",
        "                                            searchable=True\n",
        "                                            ),\n",
        "                                html.Br(),\n",
        "\n",
        "                                # TASK 2: Add a pie chart to show the total successful launches count for all sites\n",
        "                                # If a specific launch site was selected, show the Success vs. Failed counts for the site\n",
        "                                html.Div(dcc.Graph(id='success-pie-chart')),\n",
        "                                html.Br(),\n",
        "\n",
        "                                html.P(\"Payload range (Kg):\"),\n",
        "                                # TASK 3: Add a slider to select payload range\n",
        "                                #dcc.RangeSlider(id='payload-slider',...)\n",
        "\n",
        "                                dcc.RangeSlider(id = 'payload-slider',\n",
        "                                                min=0, max=10000, step=1000,\n",
        "                                                marks=marks,\n",
        "                                                value=[min_payload , max_payload]),\n",
        "\n",
        "                                # TASK 4: Add a scatter chart to show the correlation between payload and launch success\n",
        "                                html.Div(dcc.Graph(id='success-payload-scatter-chart')),\n",
        "                                ])\n",
        "\n",
        "# TASK 2:\n",
        "# Add a callback function for `site-dropdown` as input, `success-pie-chart` as output\n",
        "\n",
        "@app.callback(Output(component_id='success-pie-chart', component_property='figure'), Input(component_id='site-dropdown', component_property='value'))\n",
        "def get_pie_chart(entered_site):\n",
        "\n",
        "  if entered_site == 'All':\n",
        "    filtered_df = spacex_df[spacex_df['class'] == 1]\n",
        "    pie_data= filtered_df['Launch Site'].value_counts()\n",
        "\n",
        "\n",
        "\n",
        "    return px.pie(labels=pie_data.index.to_list(),values= pie_data.values.tolist(),names=pie_data.index.to_list(),title='Overall success Rate by Site Pie Chart')\n",
        "\n",
        "  else:\n",
        "    # return the outcomes piechart for a selected site\n",
        "    #print(\"else case to be developped\")\n",
        "    filtered_df = spacex_df[spacex_df['Launch Site'] == entered_site]\n",
        "    pie_data= filtered_df['class'].value_counts()\n",
        "    print(pie_data)\n",
        "\n",
        "    return px.pie(labels=pie_data.index.to_list(),values= pie_data.values.tolist(),names=pie_data.index.to_list(),title= entered_site +'  Success Rate Pie Chart',color_discrete_sequence=[\"red\", \"green\"])\n",
        "\n",
        "# TASK 4:\n",
        "# Add a callback function for `site-dropdown` and `payload-slider` as inputs, `success-payload-scatter-chart` as output\n",
        "\n",
        "@app.callback( Output(component_id='success-payload-scatter-chart', component_property='figure'),\n",
        "               [Input(component_id='site-dropdown', component_property='value'),\n",
        "               Input(component_id=\"payload-slider\", component_property=\"value\")])\n",
        "def get_scatter_chart(entered_site,selected_range):\n",
        "\n",
        "  if entered_site == 'All':\n",
        "\n",
        "    return px.scatter(x=spacex_df['Payload Mass (kg)'], y=spacex_df['class'], title='Payload Mass vs Class Sample Scatter Plot for all Sites', color=spacex_df['Booster Version Category'])\n",
        "\n",
        "  else:\n",
        "\n",
        "    filtered_df = spacex_df[spacex_df['Launch Site'] == entered_site]\n",
        "    filtered_df = filtered_df[(filtered_df['Payload Mass (kg)'] >= selected_range[0]) & (filtered_df['Payload Mass (kg)'] <= selected_range[1])]\n",
        "\n",
        "    return px.scatter(x=filtered_df['Payload Mass (kg)'], y=filtered_df['class'], title='Payload Mass vs Class Scatter Plot for '+ entered_site , color=filtered_df['Booster Version Category'])\n",
        "\n",
        "# Run the app\n",
        "if __name__ == '__main__':\n",
        "    print(\"app should run\")\n",
        "    app.run_server(mode='external')\n"
      ],
      "metadata": {
        "colab": {
          "base_uri": "https://localhost:8080/",
          "height": 897
        },
        "id": "WU2SplzClfRo",
        "outputId": "0d45008b-4e44-4501-8ae1-ecc67117a739"
      },
      "execution_count": 4,
      "outputs": [
        {
          "output_type": "stream",
          "name": "stderr",
          "text": [
            "<ipython-input-4-ce2a587e17e3>:4: UserWarning:\n",
            "\n",
            "\n",
            "The dash_html_components package is deprecated. Please replace\n",
            "`import dash_html_components as html` with `from dash import html`\n",
            "\n",
            "<ipython-input-4-ce2a587e17e3>:5: UserWarning:\n",
            "\n",
            "\n",
            "The dash_core_components package is deprecated. Please replace\n",
            "`import dash_core_components as dcc` with `from dash import dcc`\n",
            "\n"
          ]
        },
        {
          "output_type": "stream",
          "name": "stdout",
          "text": [
            "app should run\n"
          ]
        },
        {
          "output_type": "display_data",
          "data": {
            "text/plain": [
              "<IPython.core.display.Javascript object>"
            ],
            "application/javascript": [
              "(async (port, path, width, height, cache, element) => {\n",
              "    if (!google.colab.kernel.accessAllowed && !cache) {\n",
              "      return;\n",
              "    }\n",
              "    element.appendChild(document.createTextNode(''));\n",
              "    const url = await google.colab.kernel.proxyPort(port, {cache});\n",
              "    const iframe = document.createElement('iframe');\n",
              "    iframe.src = new URL(path, url).toString();\n",
              "    iframe.height = height;\n",
              "    iframe.width = width;\n",
              "    iframe.style.border = 0;\n",
              "    iframe.allow = [\n",
              "        'accelerometer',\n",
              "        'autoplay',\n",
              "        'camera',\n",
              "        'clipboard-read',\n",
              "        'clipboard-write',\n",
              "        'gyroscope',\n",
              "        'magnetometer',\n",
              "        'microphone',\n",
              "        'serial',\n",
              "        'usb',\n",
              "        'xr-spatial-tracking',\n",
              "    ].join('; ');\n",
              "    element.appendChild(iframe);\n",
              "  })(8050, \"/\", \"100%\", 650, false, window.element)"
            ]
          },
          "metadata": {}
        }
      ]
    }
  ]
}